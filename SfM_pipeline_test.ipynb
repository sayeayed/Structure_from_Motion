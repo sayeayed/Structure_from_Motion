{
 "cells": [
  {
   "cell_type": "code",
   "execution_count": 2,
   "metadata": {},
   "outputs": [],
   "source": [
    "import numpy as np\n",
    "import os\n",
    "import matplotlib.pyplot as plt\n",
    "\n",
    "#arbitrarily choose images/cameras\n",
    "chosenImages = [4,5,6,7,8,9,10]\n",
    "numChosen = len(chosenImages)\n",
    "\n",
    "# initialize filepaths\n",
    "## later implement input for directory\n",
    "cDIR = os.getcwd()\n",
    "NDPath = cDIR + r'\\NotreDame\\NotreDame'\n",
    "listFile = NDPath + '\\list.txt'\n",
    "outFile = NDPath + r'\\notredame.out'"
   ]
  },
  {
   "cell_type": "code",
   "execution_count": 3,
   "metadata": {},
   "outputs": [
    {
     "name": "stdout",
     "output_type": "stream",
     "text": [
      "Data parsing successful\n"
     ]
    }
   ],
   "source": [
    "### Extract the camera parameters and point correspondences from the output file, `notredame.out`, from Bundler\n",
    "try:\n",
    "    with open(outFile) as fp:\n",
    "        line0 = fp.readline() #read line 0 (the title)\n",
    "        num_cameras, num_points = map(int, fp.readline().strip('\\n').split(' ')) #read line 1\n",
    "\n",
    "        camera_data = np.array([], dtype = float)\n",
    "        points_3d = np.empty([num_points,3], dtype = float)\n",
    "        points_3d_rgb = np.empty([num_points,3], dtype = int)\n",
    "    #     view_list = np.empty(num_points, dtype = float)\n",
    "        camera_index = np.array([], dtype = int)\n",
    "        point_index = np.array([], dtype = int)\n",
    "        xp = np.array([], dtype = float)\n",
    "        yp = np.array([], dtype = float)\n",
    "        total_num_views = 0\n",
    "\n",
    "        # extract camera parameters, starts reading on line 2\n",
    "        for i in range(num_cameras):\n",
    "            c = 5\n",
    "            if len(camera_data) == 0:\n",
    "                camera_data = np.array(fp.readline().strip('\\n').split(' '),dtype = float)\n",
    "                c = 4\n",
    "            for j in range(c):\n",
    "                camera_data = np.vstack([camera_data,np.array(fp.readline().strip('\\n').split(' '),dtype = float)]) #reads 5 lines         \n",
    "\n",
    "        # extract point correspondences of outputted 3D points, starts reading on line 2+num_cameras*5\n",
    "        for i in range(num_points):\n",
    "            points_3d[i] = np.array(fp.readline().strip('\\n').split(' '),dtype = float) #read 3D coordinates\n",
    "            points_3d_rgb[i] = np.array(fp.readline().strip('\\n').split(' '),dtype = int) #read RGB value\n",
    "            line = np.array(fp.readline().strip('\\n').split(' '),dtype = float) #read view list\n",
    "            num_views = int(line[0])\n",
    "            for j in range(num_views):\n",
    "                cameraID = int(line[j*4+1])\n",
    "    #             num_views_per_point = 0\n",
    "                if chosenImages.count(cameraID) == 1: #does camera match chosen images?\n",
    "    #                 num_views_per_point += 1\n",
    "                    x = line[j*4+3]\n",
    "                    y = line[j*4+4]\n",
    "                    camera_index = np.append(camera_index,cameraID)\n",
    "                    point_index = np.append(point_index,i)\n",
    "                    xp = np.append(xp,x)\n",
    "                    yp = np.append(yp,y)\n",
    "                    total_num_views += 1\n",
    "except:\n",
    "    print('Data parsing unsuccessful. Check data file format')\n",
    "\n",
    "if ((len(camera_index)==len(point_index)) and (len(point_index) == len(xp)) \n",
    "    and (len(xp)==len(yp)) and (len(yp)==total_num_views)):\n",
    "    print('Data parsing successful')\n",
    "else:\n",
    "    print('Data parsing unsuccessful. Check data file format')\n",
    "\n",
    "               \n",
    "# for i in range(num_cameras):\n",
    "#     camera = Camera()\n",
    "#     camera.f = camera_data[i*5,0]\n",
    "#     camera.k1 = camera_data[i*5,1]\n",
    "#     camera.k2 = camera_data[i*5,2]\n",
    "#     camera.R = camera_data[i*5+1:i*5+4] #\n",
    "#     camera.t = camera_data[i*5+4]\n",
    "#     cameras.append(camera)"
   ]
  },
  {
   "cell_type": "code",
   "execution_count": 21,
   "metadata": {},
   "outputs": [
    {
     "name": "stdout",
     "output_type": "stream",
     "text": [
      "total_num_views: 4755\n",
      "num_unique_points: 4066\n",
      "num_uniqe_cameras: 7\n",
      "point index 0:  1\n",
      "point index 1:  1\n",
      "point index 2:  2\n",
      "point index 3:  2\n",
      "point 0: [ 0.09059939 -0.02897864 -1.37835874]\n",
      "point 1: [ 0.41990737  0.03282281 -1.36521187]\n",
      "point 2: [-0.02590478  0.24351764 -1.53708274]\n",
      "unique point 1: [ 0.41990737  0.03282281 -1.36521187]\n",
      "unique point 2: [-0.02590478  0.24351764 -1.53708274]\n"
     ]
    }
   ],
   "source": [
    "print('total_num_views:',total_num_views)\n",
    "unique_points = list(set(point_index))\n",
    "print('num_unique_points:',len(unique_points))\n",
    "unique_cameras = list(set(camera_index))\n",
    "print('num_uniqe_cameras:',len(unique_cameras))\n",
    "unique_points = points_3d[list(set(point_index))]\n"
   ]
  },
  {
   "cell_type": "code",
   "execution_count": 35,
   "metadata": {},
   "outputs": [],
   "source": [
    "### Define functions\n",
    "\n",
    "def project(point, camera_params):\n",
    "    \"\"\"Convert 3-D points to 2-D by projecting onto images.\"\"\"\n",
    "    \n",
    "    # allocate camera parameters\n",
    "    R = camera_params[1:4,:]\n",
    "    t = camera_params[4]\n",
    "    f,k1,k2 = camera_params[0]\n",
    "    \n",
    "    Q = np.matmul(R,np.transpose(point)) + np.transpose(t) #convert real world to camera coordinates\n",
    "    q = -Q[0:1]/Q[2] #perspective division\n",
    "    q2 = np.linalg.norm(q)\n",
    "    p = f*(1+k1*q2+k2*q2*q2)*q #convert to pixel coordinates\n",
    "    \n",
    "    return p\n",
    "\n",
    "def batch_project(points_3d, point_index, camera_data, camera_index, total_num_views):\n",
    "    point_proj = np.empty([total_num_views,2])\n",
    "    for i in range(total_num_views):\n",
    "        point_proj[i] = project(points_3d[point_index[i]],\n",
    "                                                   camera_data[camera_index[i]*5:camera_index[i]*5+5,:])\n",
    "    \n",
    "    return point_proj\n",
    "\n",
    "def collect_unique(points_3d, point_index, camera_data, camera_index, chosenImages):\n",
    "    \"\"\" Collect only those cameras and 3D points from the full dataset that appear in the chosen image set\"\"\"\n",
    "    unique_points = points_3d[list(set(point_index))]\n",
    "    \n",
    "    \n",
    "def fun(camera_params, camera_index, point_index, points_3d, points_2d):\n",
    "    \"\"\"Compute residuals.\n",
    "    \n",
    "    `params` contains camera parameters and 3-D coordinates.\n",
    "    \"\"\"\n",
    "    points_proj = batch_project(points_3d, point_index, camera_data, camera_index, total_num_views)\n",
    "    \n",
    "    return (points_proj - points_2d).ravel()\n",
    "\n",
    "from scipy.sparse import lil_matrix\n",
    "\n",
    "def sparseJacobian(chosenImages, total_num_views):\n",
    "    m = total_num_views * 2\n",
    "    n = n_cameras * 9 + n_points * 3\n",
    "    A = lil_matrix((m, n), dtype=int)\n",
    "\n",
    "    i = np.arange(camera_indices.size)\n",
    "    for s in range(9):\n",
    "        A[2 * i, camera_indices * 9 + s] = 1\n",
    "        A[2 * i + 1, camera_indices * 9 + s] = 1\n",
    "\n",
    "    for s in range(3):\n",
    "        A[2 * i, n_cameras * 9 + point_indices * 3 + s] = 1\n",
    "        A[2 * i + 1, n_cameras * 9 + point_indices * 3 + s] = 1\n",
    "\n",
    "    return A"
   ]
  },
  {
   "cell_type": "code",
   "execution_count": 45,
   "metadata": {},
   "outputs": [
    {
     "ename": "NameError",
     "evalue": "name 'least_squares' is not defined",
     "output_type": "error",
     "traceback": [
      "\u001b[1;31m---------------------------------------------------------------------------\u001b[0m",
      "\u001b[1;31mNameError\u001b[0m                                 Traceback (most recent call last)",
      "\u001b[1;32m<ipython-input-45-f2397724842c>\u001b[0m in \u001b[0;36m<module>\u001b[1;34m\u001b[0m\n\u001b[0;32m      5\u001b[0m \u001b[1;32mimport\u001b[0m \u001b[0mtime\u001b[0m\u001b[1;33m\u001b[0m\u001b[0m\n\u001b[0;32m      6\u001b[0m \u001b[0mt0\u001b[0m \u001b[1;33m=\u001b[0m \u001b[0mtime\u001b[0m\u001b[1;33m.\u001b[0m\u001b[0mtime\u001b[0m\u001b[1;33m(\u001b[0m\u001b[1;33m)\u001b[0m\u001b[1;33m\u001b[0m\u001b[0m\n\u001b[1;32m----> 7\u001b[1;33m res = least_squares(fun, points_3d.ravel(), jac_sparsity=A, verbose=2, x_scale='jac', ftol=1e-4, method='trf',\n\u001b[0m\u001b[0;32m      8\u001b[0m                     args=(camera_data, camera_index, point_index, points_3d, np.transpose([xp,yp])))\n\u001b[0;32m      9\u001b[0m \u001b[0mt1\u001b[0m \u001b[1;33m=\u001b[0m \u001b[0mtime\u001b[0m\u001b[1;33m.\u001b[0m\u001b[0mtime\u001b[0m\u001b[1;33m(\u001b[0m\u001b[1;33m)\u001b[0m\u001b[1;33m\u001b[0m\u001b[0m\n",
      "\u001b[1;31mNameError\u001b[0m: name 'least_squares' is not defined"
     ]
    },
    {
     "data": {
      "image/png": "[encoded data removed]",
      "text/plain": [
       "<matplotlib.figure.Figure at 0x25fb488aba8>"
      ]
     },
     "metadata": {
      "needs_background": "light"
     },
     "output_type": "display_data"
    }
   ],
   "source": [
    "residuals = fun(camera_data, camera_index, point_index, points_3d, np.transpose([xp,yp]))\n",
    "plt.plot(residuals)\n",
    "\n",
    "### Optimize (least squares)\n",
    "import time\n",
    "from scipy.optimize import least_squares\n",
    "t0 = time.time()\n",
    "res = least_squares(fun, points_3d.ravel(), jac_sparsity=A, verbose=2, x_scale='jac', ftol=1e-4, method='trf',\n",
    "                    args=(camera_data, camera_index, point_index, points_3d, np.transpose([xp,yp])))\n",
    "t1 = time.time()\n",
    "print(\"Optimization took {0:.0f} seconds\".format(t1 - t0))"
   ]
  }
 ],
 "metadata": {
  "kernelspec": {
   "display_name": "Python 3",
   "language": "python",
   "name": "python3"
  },
  "language_info": {
   "codemirror_mode": {
    "name": "ipython",
    "version": 3
   },
   "file_extension": ".py",
   "mimetype": "text/x-python",
   "name": "python",
   "nbconvert_exporter": "python",
   "pygments_lexer": "ipython3",
   "version": "3.5.2"
  },
  "widgets": {
   "state": {},
   "version": "1.1.2"
  }
 },
 "nbformat": 4,
 "nbformat_minor": 2
}
