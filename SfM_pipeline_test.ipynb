{
 "cells": [
  {
   "cell_type": "code",
   "execution_count": 1,
   "metadata": {},
   "outputs": [],
   "source": [
    "import numpy as np\n",
    "import os\n",
    "\n",
    "#arbitrarily choose images/cameras\n",
    "chosenImages = [4,5,6,7,8,9,10]\n",
    "numChosen = len(chosenImages)\n",
    "\n",
    "# initialize filepaths\n",
    "## later implement input for directory\n",
    "cDIR = os.getcwd()\n",
    "NDPath = cDIR + r'\\NotreDame\\NotreDame'\n",
    "listFile = NDPath + '\\list.txt'\n",
    "outFile = NDPath + r'\\notredame.out'"
   ]
  },
  {
   "cell_type": "code",
   "execution_count": 26,
   "metadata": {},
   "outputs": [
    {
     "name": "stdout",
     "output_type": "stream",
     "text": [
      "Data parsing successful\n"
     ]
    }
   ],
   "source": [
    "### Extract the camera parameters and point correspondences from the output file, `notredame.out`, from Bundler\n",
    "try:\n",
    "    with open(outFile) as fp:\n",
    "        line0 = fp.readline() #read line 0 (the title)\n",
    "        num_cameras, num_points = map(int, fp.readline().strip('\\n').split(' ')) #read line 1\n",
    "\n",
    "        camera_data = np.array([], dtype = float)\n",
    "        points_3d = np.empty([num_points,3], dtype = float)\n",
    "        points_3d_rgb = np.empty([num_points,3], dtype = int)\n",
    "    #     view_list = np.empty(num_points, dtype = float)\n",
    "        camera_index = np.array([], dtype = int)\n",
    "        point_index = np.array([], dtype = int)\n",
    "        xp = np.array([], dtype = float)\n",
    "        yp = np.array([], dtype = float)\n",
    "        total_num_views = 0\n",
    "\n",
    "        # extract camera parameters, starts reading on line 2\n",
    "        for i in range(num_cameras):\n",
    "            c = 5\n",
    "            if len(camera_data) == 0:\n",
    "                camera_data = np.array(fp.readline().strip('\\n').split(' '),dtype = float)\n",
    "                c = 4\n",
    "            for j in range(c):\n",
    "                camera_data = np.vstack([camera_data,np.array(fp.readline().strip('\\n').split(' '),dtype = float)]) #reads 5 lines         \n",
    "\n",
    "        # extract point correspondences of outputted 3D points, starts reading on line 2+num_cameras*5\n",
    "        for i in range(num_points):\n",
    "            points_3d[i] = np.array(fp.readline().strip('\\n').split(' '),dtype = float) #read 3D coordinates\n",
    "            points_3d_rgb[i] = np.array(fp.readline().strip('\\n').split(' '),dtype = int) #read RGB value\n",
    "            line = np.array(fp.readline().strip('\\n').split(' '),dtype = float) #read view list\n",
    "            num_views = int(line[0])\n",
    "            for j in range(num_views):\n",
    "                cameraID = int(line[j*4+1])\n",
    "    #             num_views_per_point = 0\n",
    "                if chosenImages.count(cameraID) == 1: #does camera match chosen images?\n",
    "    #                 num_views_per_point += 1\n",
    "                    x = line[j*4+3]\n",
    "                    y = line[j*4+4]\n",
    "                    camera_index = np.append(camera_index,cameraID)\n",
    "                    point_index = np.append(point_index,i)\n",
    "                    xp = np.append(xp,x)\n",
    "                    yp = np.append(yp,y)\n",
    "                    total_num_views += 1\n",
    "except:\n",
    "    print('Data parsing unsuccessful. Check data file format')\n",
    "\n",
    "if ((len(camera_index)==len(point_index)) and (len(point_index) == len(xp)) \n",
    "    and (len(xp)==len(yp)) and (len(yp)==total_num_views)):\n",
    "    print('Data parsing successful')\n",
    "else:\n",
    "    print('Data parsing unsuccessful. Check data file format')\n",
    "\n",
    "               \n",
    "# for i in range(num_cameras):\n",
    "#     camera = Camera()\n",
    "#     camera.f = camera_data[i*5,0]\n",
    "#     camera.k1 = camera_data[i*5,1]\n",
    "#     camera.k2 = camera_data[i*5,2]\n",
    "#     camera.R = camera_data[i*5+1:i*5+4] #\n",
    "#     camera.t = camera_data[i*5+4]\n",
    "#     cameras.append(camera)"
   ]
  },
  {
   "cell_type": "code",
   "execution_count": 22,
   "metadata": {},
   "outputs": [
    {
     "name": "stdout",
     "output_type": "stream",
     "text": [
      "7\n",
      "1\n",
      "351.88\n",
      "-99.87\n",
      "[ 7  9  5 ..., 10 10 10]\n",
      "[     1      1      2 ...,  60210  60211 125245]\n",
      "[ 351.88    215.83     29.87   ...,   36.7     974.3301 -240.92  ]\n",
      "[ -99.87    -69.68    339.73   ...,  807.39    851.0699 -179.91  ]\n"
     ]
    }
   ],
   "source": [
    "### Define functions\n",
    "\n",
    "def rotate(points, rot_vecs):\n",
    "    \"\"\"Rotate points by given rotation vectors.\n",
    "    \n",
    "    Rodrigues' rotation formula is used.\n",
    "    \"\"\"\n",
    "    theta = np.linalg.norm(rot_vecs, axis=1)[:, np.newaxis]\n",
    "    with np.errstate(invalid='ignore'):\n",
    "        v = rot_vecs / theta\n",
    "        v = np.nan_to_num(v)\n",
    "    dot = np.sum(points * v, axis=1)[:, np.newaxis]\n",
    "    cos_theta = np.cos(theta)\n",
    "    sin_theta = np.sin(theta)\n",
    "\n",
    "    return cos_theta * points + sin_theta * np.cross(v, points) + dot * (1 - cos_theta) * v\n",
    "\n",
    "def project(points, camera_params):\n",
    "    \"\"\"Convert 3-D points to 2-D by projecting onto images.\"\"\"\n",
    "    points_proj = rotate(points, camera_params[:, :3])\n",
    "    points_proj += camera_params[:, 3:6]\n",
    "    points_proj = -points_proj[:, :2] / points_proj[:, 2, np.newaxis]\n",
    "    f = camera_params[:, 6]\n",
    "    k1 = camera_params[:, 7]\n",
    "    k2 = camera_params[:, 8]\n",
    "    n = np.sum(points_proj**2, axis=1)\n",
    "    r = 1 + k1 * n + k2 * n**2\n",
    "    points_proj *= (r * f)[:, np.newaxis]\n",
    "    return points_proj\n",
    "\n",
    "def fun(params, n_cameras, n_points, camera_indices, point_indices, points_2d):\n",
    "    \"\"\"Compute residuals.\n",
    "    \n",
    "    `params` contains camera parameters and 3-D coordinates.\n",
    "    \"\"\"\n",
    "    camera_params = params[:n_cameras * 9].reshape((n_cameras, 9))\n",
    "    points_3d = params[n_cameras * 9:].reshape((n_points, 3))\n",
    "    points_proj = project(points_3d[point_indices], camera_params[camera_indices])\n",
    "    return (points_proj - points_2d).ravel()"
   ]
  }
 ],
 "metadata": {
  "kernelspec": {
   "display_name": "Python 3",
   "language": "python",
   "name": "python3"
  },
  "language_info": {
   "codemirror_mode": {
    "name": "ipython",
    "version": 3
   },
   "file_extension": ".py",
   "mimetype": "text/x-python",
   "name": "python",
   "nbconvert_exporter": "python",
   "pygments_lexer": "ipython3",
   "version": "3.5.2"
  },
  "widgets": {
   "state": {},
   "version": "1.1.2"
  }
 },
 "nbformat": 4,
 "nbformat_minor": 2
}
