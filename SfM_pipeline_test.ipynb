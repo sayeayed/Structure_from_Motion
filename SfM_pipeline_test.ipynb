{
 "cells": [
  {
   "cell_type": "code",
   "execution_count": 4,
   "metadata": {},
   "outputs": [],
   "source": [
    "import numpy as np\n",
    "import os\n",
    "import matplotlib.pyplot as plt\n",
    "\n",
    "#arbitrarily choose images/cameras\n",
    "chosenImages = [4,5,6,7,8,9,10]\n",
    "numChosen = len(chosenImages)\n",
    "end_camera = 50\n",
    "\n",
    "# initialize filepaths\n",
    "## later implement input for directory\n",
    "cDIR = os.getcwd()\n",
    "NDPath = cDIR + r'\\NotreDame\\NotreDame'\n",
    "listFile = NDPath + '\\list.txt'\n",
    "outFile = NDPath + r'\\notredame.out'"
   ]
  },
  {
   "cell_type": "code",
   "execution_count": 7,
   "metadata": {},
   "outputs": [
    {
     "name": "stdout",
     "output_type": "stream",
     "text": [
      "Data parsing successful\n"
     ]
    }
   ],
   "source": [
    "### Extract the camera parameters and point correspondences from the output file, `notredame.out`, from Bundler\n",
    "camera_data = np.array([], dtype = float)\n",
    "points_3d = np.empty([num_points,3], dtype = float)\n",
    "points_3d_rgb = np.empty([num_points,3], dtype = int)\n",
    "#     view_list = np.empty(num_points, dtype = float)\n",
    "camera_index = np.array([], dtype = int)\n",
    "point_index = np.array([], dtype = int)\n",
    "xp = np.array([], dtype = float)\n",
    "yp = np.array([], dtype = float)\n",
    "total_num_views = 0\n",
    "\n",
    "try:\n",
    "    with open(outFile) as fp:\n",
    "        line0 = fp.readline() #read line 0 (the title)\n",
    "        num_cameras, num_points = map(int, fp.readline().strip('\\n').split(' ')) #read line 1\n",
    "\n",
    "    with open(outFile) as f:\n",
    "        for i, line in enumerate(f):\n",
    "            # extract camera parameters\n",
    "            for i in range(end_camera):\n",
    "                c = 5\n",
    "                if len(camera_data) == 0:\n",
    "                    camera_data = np.array(fp.readline().strip('\\n').split(' '),dtype = float)\n",
    "                    c = 4\n",
    "                for j in range(c):\n",
    "                    camera_data = np.vstack([camera_data,np.array(fp.readline().strip('\\n').split(' '),dtype = float)]) #reads 5 lines         \n",
    "\n",
    "            # extract point correspondences of outputted 3D points, starts reading on line 2+num_cameras*5\n",
    "            for i in range(num_points):\n",
    "                points_3d[i] = np.array(fp.readline().strip('\\n').split(' '),dtype = float) #read 3D coordinates\n",
    "                points_3d_rgb[i] = np.array(fp.readline().strip('\\n').split(' '),dtype = int) #read RGB value\n",
    "                line = np.array(fp.readline().strip('\\n').split(' '),dtype = float) #read view list\n",
    "                num_views = int(line[0])\n",
    "                total_num_views += num_views\n",
    "                for j in range(num_views):\n",
    "                    cameraID = int(line[j*4+1])\n",
    "                    x = line[j*4+3]\n",
    "                    y = line[j*4+4]\n",
    "                    camera_index = np.append(camera_index,cameraID)\n",
    "                    point_index = np.append(point_index,i)\n",
    "                    xp = np.append(xp,x)\n",
    "                    yp = np.append(yp,y)\n",
    "                \n",
    "except:\n",
    "    print('Data parsing unsuccessful. Check data file format')\n",
    "\n",
    "if ((len(camera_index)==len(point_index)) and (len(point_index) == len(xp)) \n",
    "    and (len(xp)==len(yp)) and (len(yp)==total_num_views)):\n",
    "    print('Data parsing successful')\n",
    "else:\n",
    "    print('Data parsing unsuccessful. Check data file format')\n",
    "\n",
    "               \n",
    "# for i in range(num_cameras):\n",
    "#     camera = Camera()\n",
    "#     camera.f = camera_data[i*5,0]\n",
    "#     camera.k1 = camera_data[i*5,1]\n",
    "#     camera.k2 = camera_data[i*5,2]\n",
    "#     camera.R = camera_data[i*5+1:i*5+4] #\n",
    "#     camera.t = camera_data[i*5+4]\n",
    "#     cameras.append(camera)"
   ]
  },
  {
   "cell_type": "code",
   "execution_count": 8,
   "metadata": {},
   "outputs": [
    {
     "name": "stdout",
     "output_type": "stream",
     "text": [
      "748003\n",
      "748003\n",
      "748003\n",
      "748003\n",
      "748003\n"
     ]
    }
   ],
   "source": [
    "print(len(camera_index))\n",
    "print(len(point_index))\n",
    "print(len(xp))\n",
    "print(len(yp))\n",
    "print(total_num_views)\n"
   ]
  },
  {
   "cell_type": "code",
   "execution_count": 15,
   "metadata": {},
   "outputs": [],
   "source": [
    "### Define functions\n",
    "\n",
    "def project(point, camera_params):\n",
    "    \"\"\"Convert 3-D points to 2-D by projecting onto images.\"\"\"\n",
    "    \n",
    "    # allocate camera parameters\n",
    "    R = camera_params[1:4,:]\n",
    "    t = camera_params[4]\n",
    "    f,k1,k2 = camera_params[0]\n",
    "    \n",
    "    Q = np.matmul(R,np.transpose(point)) + np.transpose(t) #convert real world to camera coordinates\n",
    "    q = -Q[0:1]/Q[2] #perspective division\n",
    "    q2 = np.linalg.norm(q)\n",
    "    p = f*(1+k1*q2+k2*q2*q2)*q #convert to pixel coordinates\n",
    "    \n",
    "    return p\n",
    "\n",
    "x0 = np.hstack((camera_data.ravel(), points_3d.ravel()))\n",
    "points_2d = np.transpose([xp,yp])\n",
    "\n",
    "def batch_project(params, point_index, camera_index, total_num_views, num_cameras, num_points):\n",
    "    camera_params = params[:num_cameras*5*3].reshape((num_cameras*5,3))\n",
    "    points_3d = params[num_cameras*5*3:].reshape((num_points,3))\n",
    "    point_proj = np.empty([total_num_views,2])\n",
    "    for i in range(total_num_views):\n",
    "        point_proj[i] = project(points_3d[point_index[i]],\n",
    "                                                   camera_params[camera_index[i]*5:camera_index[i]*5+5,:])\n",
    "    \n",
    "    return point_proj\n",
    "\n",
    "def collect_unique(points_3d, point_index, camera_data, camera_index, chosenImages):\n",
    "    \"\"\" Collect only those cameras and 3D points from the full dataset that appear in the chosen image set\"\"\"\n",
    "    unique_points = points_3d[list(set(point_index))]\n",
    "    \n",
    "    \n",
    "def fun(params, point_index, camera_index, total_num_views, num_cameras, num_points, points_2d):\n",
    "    \"\"\"Compute residuals.\n",
    "    \n",
    "    `params` contains camera parameters and 3-D coordinates.\n",
    "    \"\"\"\n",
    "    points_proj = batch_project(params, point_index, camera_index, total_num_views, num_cameras, num_points)\n",
    "    \n",
    "    return (points_proj - points_2d).ravel()\n",
    "\n",
    "from scipy.sparse import lil_matrix\n",
    "\n",
    "def sparseJacobian(num_cameras, num_points, camera_index, point_index, total_num_views):\n",
    "    m = total_num_views * 2\n",
    "    n = num_cameras * 3 * 5 + num_points * 3\n",
    "    A = lil_matrix((m, n), dtype=int)\n",
    "\n",
    "    i = np.arange(total_num_views)\n",
    "    for s in range(3*5):\n",
    "        A[2 * i, camera_index * 3*5 + s] = 1\n",
    "        A[2 * i + 1, camera_index * 3*5 + s] = 1\n",
    "\n",
    "    for s in range(3):\n",
    "        A[2 * i, num_cameras * 3*5 + point_index * 3 + s] = 1\n",
    "        A[2 * i + 1, num_cameras * 3*5 + point_index * 3 + s] = 1\n",
    "\n",
    "    return A"
   ]
  },
  {
   "cell_type": "code",
   "execution_count": 12,
   "metadata": {},
   "outputs": [
    {
     "data": {
      "text/plain": [
       "[<matplotlib.lines.Line2D at 0x1810870ec50>]"
      ]
     },
     "execution_count": 12,
     "metadata": {},
     "output_type": "execute_result"
    },
    {
     "data": {
      "image/png": "[encoded data removed]",
      "text/plain": [
       "<matplotlib.figure.Figure at 0x18106208a90>"
      ]
     },
     "metadata": {
      "needs_background": "light"
     },
     "output_type": "display_data"
    }
   ],
   "source": [
    "residuals = fun(x0, point_index, camera_index, total_num_views, num_cameras, num_points, points_2d)\n",
    "plt.plot(residuals)\n"
   ]
  },
  {
   "cell_type": "code",
   "execution_count": 16,
   "metadata": {},
   "outputs": [
    {
     "name": "stdout",
     "output_type": "stream",
     "text": [
      "   Iteration     Total nfev        Cost      Cost reduction    Step norm     Optimality   \n",
      "       0              1         1.3914e+11                                    1.75e+10    \n",
      "       1              4         1.2429e+11      1.48e+10       1.56e+03       1.39e+10    \n",
      "       2              6         1.1836e+11      5.94e+09       7.40e+02       1.27e+10    \n",
      "       3              7         1.0850e+11      9.85e+09       1.40e+03       1.09e+10    \n",
      "       4              9         1.0441e+11      4.10e+09       6.61e+02       1.01e+10    \n",
      "       5             10         9.7408e+10      7.00e+09       1.22e+03       8.75e+09    \n",
      "       6             11         8.7104e+10      1.03e+10       2.07e+03       6.52e+09    \n",
      "       7             13         8.3445e+10      3.66e+09       8.32e+02       5.59e+09    \n",
      "       8             14         7.8273e+10      5.17e+09       1.40e+03       3.86e+09    \n",
      "       9             16         7.6505e+10      1.77e+09       5.57e+02       4.35e+09    \n",
      "      10             17         7.4037e+10      2.47e+09       9.86e+02       1.91e+09    \n",
      "      11             20         7.3801e+10      2.36e+08       1.39e+02       3.53e+09    \n",
      "      12             21         7.3376e+10      4.25e+08       2.53e+02       1.74e+09    \n",
      "      13             22         7.2673e+10      7.03e+08       5.32e+02       1.45e+09    \n",
      "      14             24         7.2381e+10      2.91e+08       2.99e+02       1.33e+09    \n",
      "      15             25         7.1898e+10      4.83e+08       6.09e+02       1.29e+09    \n",
      "      16             26         7.1279e+10      6.19e+08       1.39e+03       1.36e+10    \n",
      "      17             27         7.0638e+10      6.41e+08       3.49e+03       3.28e+10    \n",
      "      18             29         7.0416e+10      2.22e+08       1.61e+03       9.27e+09    \n",
      "      19             31         7.0326e+10      8.95e+07       8.80e+02       1.55e+09    \n",
      "      20             32         7.0188e+10      1.39e+08       1.76e+03       1.37e+09    \n",
      "      21             34         7.0159e+10      2.83e+07       7.56e+02       1.92e+09    \n",
      "      22             35         7.0137e+10      2.24e+07       1.31e+03       3.87e+10    \n",
      "      23             38         7.0112e+10      2.48e+07       9.92e+01       5.19e+09    \n",
      "      24             39         7.0101e+10      1.05e+07       2.68e+02       1.31e+10    \n",
      "      25             40         7.0093e+10      8.68e+06       3.66e+02       6.27e+08    \n",
      "      26             41         7.0080e+10      1.28e+07       7.36e+02       1.01e+10    \n",
      "      27             43         7.0078e+10      1.90e+06       3.38e+02       4.28e+09    \n",
      "`ftol` termination condition is satisfied.\n",
      "Function evaluations 43, initial cost 1.3914e+11, final cost 7.0078e+10, first-order optimality 4.28e+09.\n",
      "Optimization took 17675 seconds\n"
     ]
    }
   ],
   "source": [
    "A = sparseJacobian(num_cameras, num_points, camera_index, point_index, total_num_views)\n",
    "### Optimize (least squares)\n",
    "import time\n",
    "from scipy.optimize import least_squares\n",
    "t0 = time.time()\n",
    "res = least_squares(fun, x0, jac_sparsity=A, verbose=2, x_scale='jac', ftol=1e-4, method='trf',\n",
    "                    args=(point_index, camera_index, total_num_views, num_cameras, num_points, points_2d))\n",
    "t1 = time.time()\n",
    "print(\"Optimization took {0:.0f} seconds\".format(t1 - t0))"
   ]
  },
  {
   "cell_type": "code",
   "execution_count": 20,
   "metadata": {},
   "outputs": [
    {
     "data": {
      "text/plain": [
       "393018"
      ]
     },
     "execution_count": 20,
     "metadata": {},
     "output_type": "execute_result"
    },
    {
     "data": {
      "image/png": "[encoded data removed]",
      "text/plain": [
       "<matplotlib.figure.Figure at 0x1812f9ec9e8>"
      ]
     },
     "metadata": {
      "needs_background": "light"
     },
     "output_type": "display_data"
    }
   ],
   "source": [
    "plt.plot(res.fun)\n",
    "(17675/60)/60\n",
    "res.x.size"
   ]
  },
  {
   "cell_type": "code",
   "execution_count": null,
   "metadata": {},
   "outputs": [],
   "source": [
    "for i in range(len(res.x):\n",
    "    x_3D = np.append(x_3D,points_3D[i+start_point_index,0])\n",
    "    y_3D = np.append(y_3D,points_3D[i+start_point_index,1])\n",
    "    z_3D = np.append(z_3D,points_3D[i+start_point_index,2])\n",
    "    \n",
    "# plot 3D scatter plot\n",
    "fig = plt.figure()\n",
    "ax = fig.add_subplot(111, projection='3d')\n",
    "ax.scatter(x_3D, y_3D, z_3D, c='r', marker='o')\n",
    "ax.set_xlabel('X Label')\n",
    "ax.set_ylabel('Y Label')\n",
    "ax.set_zlabel('Z Label')\n",
    "plt.show()"
   ]
  }
 ],
 "metadata": {
  "kernelspec": {
   "display_name": "Python 3",
   "language": "python",
   "name": "python3"
  },
  "language_info": {
   "codemirror_mode": {
    "name": "ipython",
    "version": 3
   },
   "file_extension": ".py",
   "mimetype": "text/x-python",
   "name": "python",
   "nbconvert_exporter": "python",
   "pygments_lexer": "ipython3",
   "version": "3.5.2"
  },
  "widgets": {
   "state": {},
   "version": "1.1.2"
  }
 },
 "nbformat": 4,
 "nbformat_minor": 2
}
