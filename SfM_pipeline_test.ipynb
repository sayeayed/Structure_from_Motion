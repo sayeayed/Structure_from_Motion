{
 "cells": [
  {
   "cell_type": "code",
   "execution_count": 1,
   "metadata": {},
   "outputs": [],
   "source": [
    "import numpy as np\n",
    "import os\n",
    "import matplotlib.pyplot as plt\n",
    "\n",
    "#arbitrarily choose images/cameras\n",
    "numChosen = 50\n",
    "chosenImages = range(numChosen)\n",
    "\n",
    "\n",
    "# initialize filepaths\n",
    "## later implement input for directory\n",
    "cDIR = os.getcwd()\n",
    "NDPath = cDIR + r'\\NotreDame\\NotreDame'\n",
    "listFile = NDPath + '\\list.txt'\n",
    "outFile = NDPath + r'\\notredame.out'"
   ]
  },
  {
   "cell_type": "code",
   "execution_count": 2,
   "metadata": {},
   "outputs": [
    {
     "name": "stdout",
     "output_type": "stream",
     "text": [
      "Parsing data file...\n",
      "Data parsing successsful\n",
      "Vector lengths match\n",
      "Numbers of interest...:\n",
      "  num_unique_points:  22647\n",
      "  num_uniqe_cameras:  50\n",
      "  number of cameras chosen:  50\n",
      "  total_num_views:  31466\n"
     ]
    }
   ],
   "source": [
    "### Extract the camera parameters and point correspondences from the output file, `notredame.out`, from Bundler\n",
    "\n",
    "\n",
    "try:\n",
    "    with open(outFile) as fp:\n",
    "        print('Parsing data file...')\n",
    "        line0 = fp.readline() #read line 0 (the title)\n",
    "        total_num_cameras, total_num_points = map(int, fp.readline().strip('\\n').split(' ')) #read line 1\n",
    "        \n",
    "        # placeholders\n",
    "        camera_data = np.array([], dtype = float)\n",
    "        points_3d = np.empty([total_num_points,3], dtype = float)\n",
    "        points_3d_rgb = np.empty([total_num_points,3], dtype = int)\n",
    "        #     view_list = np.empty(num_points, dtype = float)\n",
    "        camera_index = np.array([], dtype = int)\n",
    "        point_index = np.array([], dtype = int)\n",
    "        xp = np.array([], dtype = float)\n",
    "        yp = np.array([], dtype = float)\n",
    "        total_num_views = 0\n",
    "        num_cameras = numChosen\n",
    "        num_line_holds = 0\n",
    "\n",
    "        # extract camera parameters, starts reading on line 2\n",
    "        for i in range(total_num_cameras):\n",
    "            if chosenImages.count(i) == 1:\n",
    "                c = 5\n",
    "                if len(camera_data) == 0:\n",
    "                    camera_data = np.array(fp.readline().strip('\\n').split(' '),dtype = float)\n",
    "                    c = 4\n",
    "                for j in range(c):\n",
    "                    camera_data = np.vstack([camera_data,np.array(fp.readline().strip('\\n').split(' '),dtype = float)]) #reads 5 lines\n",
    "            else:\n",
    "                for k in range(5):\n",
    "                    line_hold = fp.readline()\n",
    "                    num_line_holds += 1\n",
    "\n",
    "        # extract point correspondences of outputted 3D points, starts reading on line 2+num_cameras*5\n",
    "        for i in range(total_num_points):\n",
    "            points_3d[i] =  np.array(fp.readline().strip('\\n').split(' '),dtype = float) #read 3D coordinates\n",
    "            points_3d_rgb[i] = np.array(fp.readline().strip('\\n').split(' '),dtype = int) #read RGB value\n",
    "            line = np.array(fp.readline().strip('\\n').split(' '),dtype = float) #read view list\n",
    "            num_views = int(line[0])\n",
    "            for j in range(num_views):\n",
    "                cameraID = int(line[j*4+1])\n",
    "    #             num_views_per_point = 0\n",
    "                if chosenImages.count(cameraID) == 1: #does camera match chosen images?\n",
    "    #                 num_views_per_point += 1\n",
    "                    x = line[j*4+3]\n",
    "                    y = line[j*4+4]\n",
    "                    camera_index = np.append(camera_index,cameraID)\n",
    "                    point_index = np.append(point_index,i)\n",
    "                    xp = np.append(xp,x)\n",
    "                    yp = np.append(yp,y)\n",
    "                    total_num_views += 1\n",
    "        print('Data parsing successsful')\n",
    "except:\n",
    "    print('Data parsing unsuccessful. Check data file format')\n",
    "    print('Check the following numbers and vector lengths...:')\n",
    "    print('  total_num_views:',total_num_views)\n",
    "    unique_points = list(set(point_index))\n",
    "    print('  num_unique_points:',len(unique_points))\n",
    "    unique_cameras = list(set(camera_index))\n",
    "    print('  num_uniqe_cameras:',len(unique_cameras))\n",
    "    unique_points = points_3d[list(set(point_index))]\n",
    "    print('  total_num_cameras: ',total_num_cameras)\n",
    "    print('  total_num_points: ', total_num_points)\n",
    "    print('  number of cameras chosen: ', numChosen)\n",
    "    print('  length of camera_index: ',len(camera_index))\n",
    "    print('  length of point_index: ',len(point_index))\n",
    "    print('  length of xp: ',len(xp))\n",
    "    print('  total_num_views: ', total_num_views)\n",
    "    print('  Final iteration in points parsing loop: ',i)\n",
    "\n",
    "if ((len(camera_index)==len(point_index)) and (len(point_index) == len(xp)) \n",
    "    and (len(xp)==len(yp)) and (len(yp)==total_num_views)):\n",
    "    print('Vector lengths match')\n",
    "    print('-Numbers of interest-')\n",
    "    unique_points = list(set(point_index))\n",
    "    print('  num_unique_points: ',len(unique_points))\n",
    "    unique_cameras = list(set(camera_index))\n",
    "    print('  num_uniqe_cameras: ',len(unique_cameras))\n",
    "    print('  number of cameras chosen: ', numChosen)\n",
    "    num_cameras = numChosen\n",
    "    num_points = len(unique_points)\n",
    "    print('  total_num_views: ', total_num_views)\n",
    "else:\n",
    "    print('Data parsing unsuccessful. Check data file format. Number of views and points do not match')\n",
    "\n",
    "               \n",
    "# for i in range(num_cameras):\n",
    "#     camera = Camera()\n",
    "#     camera.f = camera_data[i*5,0]\n",
    "#     camera.k1 = camera_data[i*5,1]\n",
    "#     camera.k2 = camera_data[i*5,2]\n",
    "#     camera.R = camera_data[i*5+1:i*5+4] #\n",
    "#     camera.t = camera_data[i*5+4]\n",
    "#     cameras.append(camera)"
   ]
  },
  {
   "cell_type": "code",
   "execution_count": 15,
   "metadata": {},
   "outputs": [
    {
     "name": "stdout",
     "output_type": "stream",
     "text": [
      "Check the following numbers and vector lengths...:\n",
      "total_num_views: 31466\n",
      "num_unique_points: 22647\n",
      "num_uniqe_cameras: 50\n",
      "total_num_cameras:  715\n",
      "total_num_points:  127431\n",
      "length of camera_index:  31466\n",
      "length of point_index:  31466\n",
      "length of xp:  31466\n",
      "total_num_views:  31466\n",
      "Final iteration in points parsing loop:  127430\n"
     ]
    }
   ],
   "source": [
    "print('Check the following numbers and vector lengths...:')\n",
    "print('total_num_views:',total_num_views)\n",
    "unique_points = list(set(point_index))\n",
    "print('num_unique_points:',len(unique_points))\n",
    "unique_cameras = list(set(camera_index))\n",
    "print('num_uniqe_cameras:',len(unique_cameras))\n",
    "print('total_num_cameras: ',total_num_cameras)\n",
    "print('total_num_points: ', total_num_points)\n",
    "print('length of camera_index: ',len(camera_index))\n",
    "print('length of point_index: ',len(point_index))\n",
    "print('length of xp: ',len(xp))\n",
    "print('total_num_views: ', total_num_views)\n",
    "print('Final iteration in points parsing loop: ',i)\n",
    "# with open(outFile) as f:\n",
    "#     for i, line in enumerate(f):\n",
    "#         if i == total_num_cameras*5 + 3:\n",
    "#             print(line)"
   ]
  },
  {
   "cell_type": "code",
   "execution_count": null,
   "metadata": {},
   "outputs": [],
   "source": [
    "num_line_holds/5"
   ]
  },
  {
   "cell_type": "code",
   "execution_count": 21,
   "metadata": {},
   "outputs": [],
   "source": [
    "### Define functions\n",
    "\n",
    "def project(point, camera_params):\n",
    "    \"\"\"Convert 3-D points to 2-D by projecting onto images.\"\"\"\n",
    "    \n",
    "    # allocate camera parameters\n",
    "    R = camera_params[1:4,:]\n",
    "    t = camera_params[4]\n",
    "    f,k1,k2 = camera_params[0]\n",
    "    \n",
    "    Q = np.matmul(R,np.transpose(point)) + np.transpose(t) #convert real world to camera coordinates\n",
    "    q = -Q[:2]/Q[2] #perspective division\n",
    "    q2 = np.linalg.norm(q)\n",
    "    p = f*(1+k1*q2+k2*q2*q2)*q #convert to pixel coordinates\n",
    "    \n",
    "    return p\n",
    "\n",
    "x0 = np.hstack((camera_data.ravel(), points_3d[point_index].ravel()))\n",
    "points_2d = np.transpose([xp,yp])\n",
    "\n",
    "def batch_project(params, point_index, camera_index, total_num_views, num_cameras, num_points):\n",
    "    camera_params = params[:num_cameras*5*3].reshape((num_cameras*5,3))\n",
    "    points_3d = params[num_cameras*5*3:].reshape((total_num_views,3))\n",
    "    point_proj = np.empty([total_num_views,2])\n",
    "    for i in range(total_num_views):\n",
    "        point_proj[i] = project(points_3d[i],camera_params[camera_index[i]*5:camera_index[i]*5+5,:])\n",
    "    \n",
    "    return point_proj\n",
    "\n",
    "def collect_unique(points_3d, point_index, camera_data, camera_index, chosenImages):\n",
    "    \"\"\" Collect only those cameras and 3D points from the full dataset that appear in the chosen image set\"\"\"\n",
    "    unique_points = points_3d[list(set(point_index))]\n",
    "    \n",
    "    \n",
    "def fun(params, point_index, camera_index, total_num_views, num_cameras, num_points, points_2d):\n",
    "    \"\"\"Compute residuals.\n",
    "    \n",
    "    `params` contains camera parameters and 3-D coordinates.\n",
    "    \"\"\"\n",
    "    points_proj = batch_project(params, point_index, camera_index, total_num_views, num_cameras, num_points)\n",
    "    \n",
    "    return (points_proj - points_2d).ravel()\n",
    "\n",
    "from scipy.sparse import lil_matrix\n",
    "\n",
    "def sparseJacobian(num_cameras, num_points, camera_index, point_index, total_num_views):\n",
    "    m = total_num_views * 2\n",
    "    n = num_cameras * 15 + num_points * 3\n",
    "    A = lil_matrix((m, n), dtype=int)\n",
    "\n",
    "    i = np.arange(total_num_views)\n",
    "    for s in range(15):\n",
    "        A[2 * i, camera_index * 15 + s] = 1\n",
    "        A[2 * i + 1, camera_index * 15 + s] = 1\n",
    "\n",
    "    for s in range(3):\n",
    "        A[2 * i, num_cameras * 15 + point_index * 3 + s] = 1\n",
    "        A[2 * i + 1, num_cameras * 15 + point_index * 3 + s] = 1\n",
    "\n",
    "    return A"
   ]
  },
  {
   "cell_type": "code",
   "execution_count": 12,
   "metadata": {},
   "outputs": [
    {
     "data": {
      "text/plain": [
       "[<matplotlib.lines.Line2D at 0x1c63ecd25c0>]"
      ]
     },
     "execution_count": 12,
     "metadata": {},
     "output_type": "execute_result"
    },
    {
     "data": {
      "image/png": "[encoded data removed]",
      "text/plain": [
       "<matplotlib.figure.Figure at 0x1c63cab0208>"
      ]
     },
     "metadata": {
      "needs_background": "light"
     },
     "output_type": "display_data"
    }
   ],
   "source": [
    "residuals = fun(x0, point_index, camera_index, total_num_views, num_cameras, num_points, points_2d)\n",
    "plt.plot(residuals)"
   ]
  },
  {
   "cell_type": "code",
   "execution_count": 22,
   "metadata": {},
   "outputs": [
    {
     "ename": "ValueError",
     "evalue": "shape mismatch: objects cannot be broadcast to a single shape",
     "output_type": "error",
     "traceback": [
      "\u001b[1;31m---------------------------------------------------------------------------\u001b[0m",
      "\u001b[1;31mValueError\u001b[0m                                Traceback (most recent call last)",
      "\u001b[1;32m<ipython-input-22-3a1f27c843a4>\u001b[0m in \u001b[0;36m<module>\u001b[1;34m\u001b[0m\n\u001b[0;32m      1\u001b[0m \u001b[1;36m68691\u001b[0m\u001b[1;33m/\u001b[0m\u001b[1;36m3\u001b[0m\u001b[1;33m\u001b[0m\u001b[0m\n\u001b[1;32m----> 2\u001b[1;33m \u001b[0mB\u001b[0m \u001b[1;33m=\u001b[0m \u001b[0msparseJacobian\u001b[0m\u001b[1;33m(\u001b[0m\u001b[1;36m4\u001b[0m\u001b[1;33m,\u001b[0m\u001b[1;36m2\u001b[0m\u001b[1;33m,\u001b[0m\u001b[0mnp\u001b[0m\u001b[1;33m.\u001b[0m\u001b[0marray\u001b[0m\u001b[1;33m(\u001b[0m\u001b[1;33m[\u001b[0m\u001b[1;36m0\u001b[0m\u001b[1;33m,\u001b[0m\u001b[1;36m1\u001b[0m\u001b[1;33m,\u001b[0m\u001b[1;36m2\u001b[0m\u001b[1;33m,\u001b[0m\u001b[1;36m3\u001b[0m\u001b[1;33m]\u001b[0m\u001b[1;33m)\u001b[0m\u001b[1;33m,\u001b[0m\u001b[0mnp\u001b[0m\u001b[1;33m.\u001b[0m\u001b[0marray\u001b[0m\u001b[1;33m(\u001b[0m\u001b[1;33m[\u001b[0m\u001b[1;36m1\u001b[0m\u001b[1;33m,\u001b[0m\u001b[1;36m0\u001b[0m\u001b[1;33m]\u001b[0m\u001b[1;33m)\u001b[0m\u001b[1;33m,\u001b[0m\u001b[1;36m3\u001b[0m\u001b[1;33m)\u001b[0m\u001b[1;33m\u001b[0m\u001b[0m\n\u001b[0m",
      "\u001b[1;32m<ipython-input-21-984c2a6efae9>\u001b[0m in \u001b[0;36msparseJacobian\u001b[1;34m(num_cameras, num_points, camera_index, point_index, total_num_views)\u001b[0m\n\u001b[0;32m     51\u001b[0m     \u001b[0mi\u001b[0m \u001b[1;33m=\u001b[0m \u001b[0mnp\u001b[0m\u001b[1;33m.\u001b[0m\u001b[0marange\u001b[0m\u001b[1;33m(\u001b[0m\u001b[0mtotal_num_views\u001b[0m\u001b[1;33m)\u001b[0m\u001b[1;33m\u001b[0m\u001b[0m\n\u001b[0;32m     52\u001b[0m     \u001b[1;32mfor\u001b[0m \u001b[0ms\u001b[0m \u001b[1;32min\u001b[0m \u001b[0mrange\u001b[0m\u001b[1;33m(\u001b[0m\u001b[1;36m15\u001b[0m\u001b[1;33m)\u001b[0m\u001b[1;33m:\u001b[0m\u001b[1;33m\u001b[0m\u001b[0m\n\u001b[1;32m---> 53\u001b[1;33m         \u001b[0mA\u001b[0m\u001b[1;33m[\u001b[0m\u001b[1;36m2\u001b[0m \u001b[1;33m*\u001b[0m \u001b[0mi\u001b[0m\u001b[1;33m,\u001b[0m \u001b[0mcamera_index\u001b[0m \u001b[1;33m*\u001b[0m \u001b[1;36m15\u001b[0m \u001b[1;33m+\u001b[0m \u001b[0ms\u001b[0m\u001b[1;33m]\u001b[0m \u001b[1;33m=\u001b[0m \u001b[1;36m1\u001b[0m\u001b[1;33m\u001b[0m\u001b[0m\n\u001b[0m\u001b[0;32m     54\u001b[0m         \u001b[0mA\u001b[0m\u001b[1;33m[\u001b[0m\u001b[1;36m2\u001b[0m \u001b[1;33m*\u001b[0m \u001b[0mi\u001b[0m \u001b[1;33m+\u001b[0m \u001b[1;36m1\u001b[0m\u001b[1;33m,\u001b[0m \u001b[0mcamera_index\u001b[0m \u001b[1;33m*\u001b[0m \u001b[1;36m15\u001b[0m \u001b[1;33m+\u001b[0m \u001b[0ms\u001b[0m\u001b[1;33m]\u001b[0m \u001b[1;33m=\u001b[0m \u001b[1;36m1\u001b[0m\u001b[1;33m\u001b[0m\u001b[0m\n\u001b[0;32m     55\u001b[0m \u001b[1;33m\u001b[0m\u001b[0m\n",
      "\u001b[1;32m~\\Miniconda3\\envs\\carnd-term1\\lib\\site-packages\\scipy\\sparse\\lil.py\u001b[0m in \u001b[0;36m__setitem__\u001b[1;34m(self, index, x)\u001b[0m\n\u001b[0;32m    338\u001b[0m             \u001b[1;32mreturn\u001b[0m\u001b[1;33m\u001b[0m\u001b[0m\n\u001b[0;32m    339\u001b[0m \u001b[1;33m\u001b[0m\u001b[0m\n\u001b[1;32m--> 340\u001b[1;33m         \u001b[0mi\u001b[0m\u001b[1;33m,\u001b[0m \u001b[0mj\u001b[0m \u001b[1;33m=\u001b[0m \u001b[0mself\u001b[0m\u001b[1;33m.\u001b[0m\u001b[0m_index_to_arrays\u001b[0m\u001b[1;33m(\u001b[0m\u001b[0mi\u001b[0m\u001b[1;33m,\u001b[0m \u001b[0mj\u001b[0m\u001b[1;33m)\u001b[0m\u001b[1;33m\u001b[0m\u001b[0m\n\u001b[0m\u001b[0;32m    341\u001b[0m \u001b[1;33m\u001b[0m\u001b[0m\n\u001b[0;32m    342\u001b[0m         \u001b[1;32mif\u001b[0m \u001b[0misspmatrix\u001b[0m\u001b[1;33m(\u001b[0m\u001b[0mx\u001b[0m\u001b[1;33m)\u001b[0m\u001b[1;33m:\u001b[0m\u001b[1;33m\u001b[0m\u001b[0m\n",
      "\u001b[1;32m~\\Miniconda3\\envs\\carnd-term1\\lib\\site-packages\\scipy\\sparse\\sputils.py\u001b[0m in \u001b[0;36m_index_to_arrays\u001b[1;34m(self, i, j)\u001b[0m\n\u001b[0;32m    467\u001b[0m                 \u001b[1;32mraise\u001b[0m \u001b[0mIndexError\u001b[0m\u001b[1;33m(\u001b[0m\u001b[1;34m'index returns 3-dim structure'\u001b[0m\u001b[1;33m)\u001b[0m\u001b[1;33m\u001b[0m\u001b[0m\n\u001b[0;32m    468\u001b[0m \u001b[1;33m\u001b[0m\u001b[0m\n\u001b[1;32m--> 469\u001b[1;33m         \u001b[0mi\u001b[0m\u001b[1;33m,\u001b[0m \u001b[0mj\u001b[0m \u001b[1;33m=\u001b[0m \u001b[0mnp\u001b[0m\u001b[1;33m.\u001b[0m\u001b[0mbroadcast_arrays\u001b[0m\u001b[1;33m(\u001b[0m\u001b[0mi\u001b[0m\u001b[1;33m,\u001b[0m \u001b[0mj\u001b[0m\u001b[1;33m)\u001b[0m\u001b[1;33m\u001b[0m\u001b[0m\n\u001b[0m\u001b[0;32m    470\u001b[0m \u001b[1;33m\u001b[0m\u001b[0m\n\u001b[0;32m    471\u001b[0m         \u001b[1;32mif\u001b[0m \u001b[0mi\u001b[0m\u001b[1;33m.\u001b[0m\u001b[0mndim\u001b[0m \u001b[1;33m==\u001b[0m \u001b[1;36m1\u001b[0m\u001b[1;33m:\u001b[0m\u001b[1;33m\u001b[0m\u001b[0m\n",
      "\u001b[1;32m~\\Miniconda3\\envs\\carnd-term1\\lib\\site-packages\\numpy\\lib\\stride_tricks.py\u001b[0m in \u001b[0;36mbroadcast_arrays\u001b[1;34m(*args, **kwargs)\u001b[0m\n\u001b[0;32m    248\u001b[0m     \u001b[0margs\u001b[0m \u001b[1;33m=\u001b[0m \u001b[1;33m[\u001b[0m\u001b[0mnp\u001b[0m\u001b[1;33m.\u001b[0m\u001b[0marray\u001b[0m\u001b[1;33m(\u001b[0m\u001b[0m_m\u001b[0m\u001b[1;33m,\u001b[0m \u001b[0mcopy\u001b[0m\u001b[1;33m=\u001b[0m\u001b[1;32mFalse\u001b[0m\u001b[1;33m,\u001b[0m \u001b[0msubok\u001b[0m\u001b[1;33m=\u001b[0m\u001b[0msubok\u001b[0m\u001b[1;33m)\u001b[0m \u001b[1;32mfor\u001b[0m \u001b[0m_m\u001b[0m \u001b[1;32min\u001b[0m \u001b[0margs\u001b[0m\u001b[1;33m]\u001b[0m\u001b[1;33m\u001b[0m\u001b[0m\n\u001b[0;32m    249\u001b[0m \u001b[1;33m\u001b[0m\u001b[0m\n\u001b[1;32m--> 250\u001b[1;33m     \u001b[0mshape\u001b[0m \u001b[1;33m=\u001b[0m \u001b[0m_broadcast_shape\u001b[0m\u001b[1;33m(\u001b[0m\u001b[1;33m*\u001b[0m\u001b[0margs\u001b[0m\u001b[1;33m)\u001b[0m\u001b[1;33m\u001b[0m\u001b[0m\n\u001b[0m\u001b[0;32m    251\u001b[0m \u001b[1;33m\u001b[0m\u001b[0m\n\u001b[0;32m    252\u001b[0m     \u001b[1;32mif\u001b[0m \u001b[0mall\u001b[0m\u001b[1;33m(\u001b[0m\u001b[0marray\u001b[0m\u001b[1;33m.\u001b[0m\u001b[0mshape\u001b[0m \u001b[1;33m==\u001b[0m \u001b[0mshape\u001b[0m \u001b[1;32mfor\u001b[0m \u001b[0marray\u001b[0m \u001b[1;32min\u001b[0m \u001b[0margs\u001b[0m\u001b[1;33m)\u001b[0m\u001b[1;33m:\u001b[0m\u001b[1;33m\u001b[0m\u001b[0m\n",
      "\u001b[1;32m~\\Miniconda3\\envs\\carnd-term1\\lib\\site-packages\\numpy\\lib\\stride_tricks.py\u001b[0m in \u001b[0;36m_broadcast_shape\u001b[1;34m(*args)\u001b[0m\n\u001b[0;32m    183\u001b[0m     \u001b[1;31m# use the old-iterator because np.nditer does not handle size 0 arrays\u001b[0m\u001b[1;33m\u001b[0m\u001b[1;33m\u001b[0m\u001b[0m\n\u001b[0;32m    184\u001b[0m     \u001b[1;31m# consistently\u001b[0m\u001b[1;33m\u001b[0m\u001b[1;33m\u001b[0m\u001b[0m\n\u001b[1;32m--> 185\u001b[1;33m     \u001b[0mb\u001b[0m \u001b[1;33m=\u001b[0m \u001b[0mnp\u001b[0m\u001b[1;33m.\u001b[0m\u001b[0mbroadcast\u001b[0m\u001b[1;33m(\u001b[0m\u001b[1;33m*\u001b[0m\u001b[0margs\u001b[0m\u001b[1;33m[\u001b[0m\u001b[1;33m:\u001b[0m\u001b[1;36m32\u001b[0m\u001b[1;33m]\u001b[0m\u001b[1;33m)\u001b[0m\u001b[1;33m\u001b[0m\u001b[0m\n\u001b[0m\u001b[0;32m    186\u001b[0m     \u001b[1;31m# unfortunately, it cannot handle 32 or more arguments directly\u001b[0m\u001b[1;33m\u001b[0m\u001b[1;33m\u001b[0m\u001b[0m\n\u001b[0;32m    187\u001b[0m     \u001b[1;32mfor\u001b[0m \u001b[0mpos\u001b[0m \u001b[1;32min\u001b[0m \u001b[0mrange\u001b[0m\u001b[1;33m(\u001b[0m\u001b[1;36m32\u001b[0m\u001b[1;33m,\u001b[0m \u001b[0mlen\u001b[0m\u001b[1;33m(\u001b[0m\u001b[0margs\u001b[0m\u001b[1;33m)\u001b[0m\u001b[1;33m,\u001b[0m \u001b[1;36m31\u001b[0m\u001b[1;33m)\u001b[0m\u001b[1;33m:\u001b[0m\u001b[1;33m\u001b[0m\u001b[0m\n",
      "\u001b[1;31mValueError\u001b[0m: shape mismatch: objects cannot be broadcast to a single shape"
     ]
    }
   ],
   "source": [
    "68691/3\n",
    "B = sparseJacobian(20,45,np.arange(20),np.array([1,0]),3)"
   ]
  },
  {
   "cell_type": "code",
   "execution_count": 27,
   "metadata": {},
   "outputs": [
    {
     "ename": "MemoryError",
     "evalue": "",
     "output_type": "error",
     "traceback": [
      "\u001b[1;31m---------------------------------------------------------------------------\u001b[0m",
      "\u001b[1;31mMemoryError\u001b[0m                               Traceback (most recent call last)",
      "\u001b[1;32m<ipython-input-27-2ad4c6ad3fca>\u001b[0m in \u001b[0;36m<module>\u001b[1;34m\u001b[0m\n\u001b[0;32m      5\u001b[0m \u001b[0mt0\u001b[0m \u001b[1;33m=\u001b[0m \u001b[0mtime\u001b[0m\u001b[1;33m.\u001b[0m\u001b[0mtime\u001b[0m\u001b[1;33m(\u001b[0m\u001b[1;33m)\u001b[0m\u001b[1;33m\u001b[0m\u001b[0m\n\u001b[0;32m      6\u001b[0m res = least_squares(fun, x0, verbose=2, ftol=1e-4,\n\u001b[1;32m----> 7\u001b[1;33m                     args=(point_index, camera_index, total_num_views, num_cameras, num_points, points_2d))\n\u001b[0m\u001b[0;32m      8\u001b[0m \u001b[0mt1\u001b[0m \u001b[1;33m=\u001b[0m \u001b[0mtime\u001b[0m\u001b[1;33m.\u001b[0m\u001b[0mtime\u001b[0m\u001b[1;33m(\u001b[0m\u001b[1;33m)\u001b[0m\u001b[1;33m\u001b[0m\u001b[0m\n\u001b[0;32m      9\u001b[0m \u001b[0mprint\u001b[0m\u001b[1;33m(\u001b[0m\u001b[1;34m\"Optimization took {0:.0f} seconds\"\u001b[0m\u001b[1;33m.\u001b[0m\u001b[0mformat\u001b[0m\u001b[1;33m(\u001b[0m\u001b[0mt1\u001b[0m \u001b[1;33m-\u001b[0m \u001b[0mt0\u001b[0m\u001b[1;33m)\u001b[0m\u001b[1;33m)\u001b[0m\u001b[1;33m\u001b[0m\u001b[0m\n",
      "\u001b[1;32m~\\Miniconda3\\envs\\carnd-term1\\lib\\site-packages\\scipy\\optimize\\_lsq\\least_squares.py\u001b[0m in \u001b[0;36mleast_squares\u001b[1;34m(fun, x0, jac, bounds, method, ftol, xtol, gtol, x_scale, loss, f_scale, diff_step, tr_solver, tr_options, jac_sparsity, max_nfev, verbose, args, kwargs)\u001b[0m\n\u001b[0;32m    870\u001b[0m                 \u001b[1;32mreturn\u001b[0m \u001b[0mJ\u001b[0m\u001b[1;33m\u001b[0m\u001b[0m\n\u001b[0;32m    871\u001b[0m \u001b[1;33m\u001b[0m\u001b[0m\n\u001b[1;32m--> 872\u001b[1;33m             \u001b[0mJ0\u001b[0m \u001b[1;33m=\u001b[0m \u001b[0mjac_wrapped\u001b[0m\u001b[1;33m(\u001b[0m\u001b[0mx0\u001b[0m\u001b[1;33m,\u001b[0m \u001b[0mf0\u001b[0m\u001b[1;33m)\u001b[0m\u001b[1;33m\u001b[0m\u001b[0m\n\u001b[0m\u001b[0;32m    873\u001b[0m \u001b[1;33m\u001b[0m\u001b[0m\n\u001b[0;32m    874\u001b[0m     \u001b[1;32mif\u001b[0m \u001b[0mJ0\u001b[0m \u001b[1;32mis\u001b[0m \u001b[1;32mnot\u001b[0m \u001b[1;32mNone\u001b[0m\u001b[1;33m:\u001b[0m\u001b[1;33m\u001b[0m\u001b[0m\n",
      "\u001b[1;32m~\\Miniconda3\\envs\\carnd-term1\\lib\\site-packages\\scipy\\optimize\\_lsq\\least_squares.py\u001b[0m in \u001b[0;36mjac_wrapped\u001b[1;34m(x, f)\u001b[0m\n\u001b[0;32m    864\u001b[0m                 J = approx_derivative(fun, x, rel_step=diff_step, method=jac,\n\u001b[0;32m    865\u001b[0m                                       \u001b[0mf0\u001b[0m\u001b[1;33m=\u001b[0m\u001b[0mf\u001b[0m\u001b[1;33m,\u001b[0m \u001b[0mbounds\u001b[0m\u001b[1;33m=\u001b[0m\u001b[0mbounds\u001b[0m\u001b[1;33m,\u001b[0m \u001b[0margs\u001b[0m\u001b[1;33m=\u001b[0m\u001b[0margs\u001b[0m\u001b[1;33m,\u001b[0m\u001b[1;33m\u001b[0m\u001b[0m\n\u001b[1;32m--> 866\u001b[1;33m                                       kwargs=kwargs, sparsity=jac_sparsity)\n\u001b[0m\u001b[0;32m    867\u001b[0m                 \u001b[1;32mif\u001b[0m \u001b[0mJ\u001b[0m\u001b[1;33m.\u001b[0m\u001b[0mndim\u001b[0m \u001b[1;33m!=\u001b[0m \u001b[1;36m2\u001b[0m\u001b[1;33m:\u001b[0m  \u001b[1;31m# J is guaranteed not sparse.\u001b[0m\u001b[1;33m\u001b[0m\u001b[0m\n\u001b[0;32m    868\u001b[0m                     \u001b[0mJ\u001b[0m \u001b[1;33m=\u001b[0m \u001b[0mnp\u001b[0m\u001b[1;33m.\u001b[0m\u001b[0matleast_2d\u001b[0m\u001b[1;33m(\u001b[0m\u001b[0mJ\u001b[0m\u001b[1;33m)\u001b[0m\u001b[1;33m\u001b[0m\u001b[0m\n",
      "\u001b[1;32m~\\Miniconda3\\envs\\carnd-term1\\lib\\site-packages\\scipy\\optimize\\_numdiff.py\u001b[0m in \u001b[0;36mapprox_derivative\u001b[1;34m(fun, x0, method, rel_step, f0, bounds, sparsity, as_linear_operator, args, kwargs)\u001b[0m\n\u001b[0;32m    382\u001b[0m         \u001b[1;32mif\u001b[0m \u001b[0msparsity\u001b[0m \u001b[1;32mis\u001b[0m \u001b[1;32mNone\u001b[0m\u001b[1;33m:\u001b[0m\u001b[1;33m\u001b[0m\u001b[0m\n\u001b[0;32m    383\u001b[0m             return _dense_difference(fun_wrapped, x0, f0, h,\n\u001b[1;32m--> 384\u001b[1;33m                                      use_one_sided, method)\n\u001b[0m\u001b[0;32m    385\u001b[0m         \u001b[1;32melse\u001b[0m\u001b[1;33m:\u001b[0m\u001b[1;33m\u001b[0m\u001b[0m\n\u001b[0;32m    386\u001b[0m             \u001b[1;32mif\u001b[0m \u001b[1;32mnot\u001b[0m \u001b[0missparse\u001b[0m\u001b[1;33m(\u001b[0m\u001b[0msparsity\u001b[0m\u001b[1;33m)\u001b[0m \u001b[1;32mand\u001b[0m \u001b[0mlen\u001b[0m\u001b[1;33m(\u001b[0m\u001b[0msparsity\u001b[0m\u001b[1;33m)\u001b[0m \u001b[1;33m==\u001b[0m \u001b[1;36m2\u001b[0m\u001b[1;33m:\u001b[0m\u001b[1;33m\u001b[0m\u001b[0m\n",
      "\u001b[1;32m~\\Miniconda3\\envs\\carnd-term1\\lib\\site-packages\\scipy\\optimize\\_numdiff.py\u001b[0m in \u001b[0;36m_dense_difference\u001b[1;34m(fun, x0, f0, h, use_one_sided, method)\u001b[0m\n\u001b[0;32m    445\u001b[0m     \u001b[0mm\u001b[0m \u001b[1;33m=\u001b[0m \u001b[0mf0\u001b[0m\u001b[1;33m.\u001b[0m\u001b[0msize\u001b[0m\u001b[1;33m\u001b[0m\u001b[0m\n\u001b[0;32m    446\u001b[0m     \u001b[0mn\u001b[0m \u001b[1;33m=\u001b[0m \u001b[0mx0\u001b[0m\u001b[1;33m.\u001b[0m\u001b[0msize\u001b[0m\u001b[1;33m\u001b[0m\u001b[0m\n\u001b[1;32m--> 447\u001b[1;33m     \u001b[0mJ_transposed\u001b[0m \u001b[1;33m=\u001b[0m \u001b[0mnp\u001b[0m\u001b[1;33m.\u001b[0m\u001b[0mempty\u001b[0m\u001b[1;33m(\u001b[0m\u001b[1;33m(\u001b[0m\u001b[0mn\u001b[0m\u001b[1;33m,\u001b[0m \u001b[0mm\u001b[0m\u001b[1;33m)\u001b[0m\u001b[1;33m)\u001b[0m\u001b[1;33m\u001b[0m\u001b[0m\n\u001b[0m\u001b[0;32m    448\u001b[0m     \u001b[0mh_vecs\u001b[0m \u001b[1;33m=\u001b[0m \u001b[0mnp\u001b[0m\u001b[1;33m.\u001b[0m\u001b[0mdiag\u001b[0m\u001b[1;33m(\u001b[0m\u001b[0mh\u001b[0m\u001b[1;33m)\u001b[0m\u001b[1;33m\u001b[0m\u001b[0m\n\u001b[0;32m    449\u001b[0m \u001b[1;33m\u001b[0m\u001b[0m\n",
      "\u001b[1;31mMemoryError\u001b[0m: "
     ]
    }
   ],
   "source": [
    "A = sparseJacobian(num_cameras, num_points, camera_index, point_index, total_num_views)\n",
    "### Optimize (least squares)\n",
    "import time\n",
    "from scipy.optimize import least_squares\n",
    "t0 = time.time()\n",
    "res = least_squares(fun, x0, verbose=2, ftol=1e-4,\n",
    "                    args=(point_index, camera_index, total_num_views, num_cameras, num_points, points_2d))\n",
    "t1 = time.time()\n",
    "print(\"Optimization took {0:.0f} seconds\".format(t1 - t0))\n"
   ]
  },
  {
   "cell_type": "code",
   "execution_count": null,
   "metadata": {},
   "outputs": [],
   "source": [
    "plt.plot(res.fun)\n",
    "(17675/60)/60\n",
    "res.x.size"
   ]
  }
 ],
 "metadata": {
  "kernelspec": {
   "display_name": "Python 3",
   "language": "python",
   "name": "python3"
  },
  "language_info": {
   "codemirror_mode": {
    "name": "ipython",
    "version": 3
   },
   "file_extension": ".py",
   "mimetype": "text/x-python",
   "name": "python",
   "nbconvert_exporter": "python",
   "pygments_lexer": "ipython3",
   "version": "3.5.2"
  },
  "widgets": {
   "state": {},
   "version": "1.1.2"
  }
 },
 "nbformat": 4,
 "nbformat_minor": 2
}
